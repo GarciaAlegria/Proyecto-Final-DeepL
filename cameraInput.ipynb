{
 "cells": [
  {
   "cell_type": "code",
   "execution_count": null,
   "metadata": {},
   "outputs": [],
   "source": [
    "import cv2 # libreria de OpenCV para el manejo de imagenes\n",
    "import time # libreria para el manejo de tiempo\n",
    "from datetime import datetime # libreria para el manejo de fechas\n",
    " \n",
    "import tensorflow as tf # libreria de tensorflow para el manejo de redes neuronales\n",
    "from tensorflow.keras.models import load_model # libreria para cargar un modelo de red neuronal\n",
    "from tensorflow.keras.preprocessing import image # libreria para el preprocesamiento de imagenes\n",
    "import numpy as np # libreria para el manejo de arreglos"
   ]
  },
  {
   "cell_type": "code",
   "execution_count": null,
   "metadata": {},
   "outputs": [],
   "source": [
    "def predict_image(image_path, model_path='saved_models/glasses_detector.keras'): # ruta de la imagen y ruta del modelo\n",
    "    \"\"\"\n",
    "    Función para predecir si en la imagen la persona está usando gafas o no.\n",
    "    \"\"\"\n",
    "    # Cargamos el modelo\n",
    "    model = load_model(model_path)\n",
    "    \n",
    "    # Cargamos la imagen\n",
    "    img = image.load_img(image_path, target_size=(512, 512))\n",
    "    # Convertimos la imagen a un array\n",
    "    img_array = image.img_to_array(img)\n",
    "    # Normalizamos la imagen (dividimos por 255)\n",
    "    img_array = img_array / 255.0\n",
    "    # Añadimos una dimensión extra\n",
    "    img_array = np.expand_dims(img_array, axis=0)\n",
    "    \n",
    "    # Realizamos la predicción\n",
    "    prediction = model.predict(img_array, verbose=0)\n",
    "\n",
    "    # Mostramos el resultado\n",
    "    if prediction[0] < 0.5:\n",
    "        print(\"Prediction: Glasses\")\n",
    "    else:\n",
    "        print(\"Prediction: No Glasses\")"
   ]
  },
  {
   "cell_type": "code",
   "execution_count": null,
   "metadata": {},
   "outputs": [],
   "source": [
    "# Inicializamos objecto camara\n",
    "camera = cv2.VideoCapture(1)  # 0 es para la camara integrada, 1 para la camara externa\n",
    "\n",
    "# Se va a ejecutar la captura de imagenes en rondas de 10 segundos\n",
    "try:\n",
    "    while True:\n",
    "        # Capturamos imagen\n",
    "        ret, frame = camera.read()\n",
    "        \n",
    "        # Si no se pudo capturar la imagen, terminamos el programa\n",
    "        if not ret:\n",
    "            print(\"Failed to capture image.\")\n",
    "            break\n",
    "        \n",
    "        # Generamos un nombre de archivo para la imagen capturada\n",
    "        timestamp = datetime.now().strftime(\"%Y%m%d_%H%M%S\") # Formato de fecha y hora\n",
    "        filename = f\"capturedImages/capture_{timestamp}.jpg\" # Nombre del archivo de la imagen capturada\n",
    "        \n",
    "        # Guardamos la imagen capturada\n",
    "        cv2.imwrite(filename, frame)\n",
    "        \n",
    "        # Predecimos si la persona en la imagen esta usando lentes o no\n",
    "        predict_image(filename)\n",
    "        \n",
    "        # Esperamos 10 segundos antes de capturar la siguiente imagen\n",
    "        time.sleep(7)\n",
    "        print(\"Capturing next image... in 3\") # Mensaje de espera para la siguiente captura\n",
    "        time.sleep(1)\n",
    "        print(\"Capturing next image... in 2\") # Mensaje de espera para la siguiente captura\n",
    "        time.sleep(1)\n",
    "        print(\"Capturing next image... in 1\") # Mensaje de espera para la siguiente captura\n",
    "        time.sleep(1)\n",
    "\n",
    "finally:\n",
    "    # Liberamos la camara y cerramos todas las ventanas\n",
    "    camera.release() # Liberamos la camara\n",
    "    cv2.destroyAllWindows() # Cerramos todas las ventanas"
   ]
  }
 ],
 "metadata": {
  "kernelspec": {
   "display_name": "Python 3",
   "language": "python",
   "name": "python3"
  },
  "language_info": {
   "codemirror_mode": {
    "name": "ipython",
    "version": 3
   },
   "file_extension": ".py",
   "mimetype": "text/x-python",
   "name": "python",
   "nbconvert_exporter": "python",
   "pygments_lexer": "ipython3",
   "version": "3.11.9"
  }
 },
 "nbformat": 4,
 "nbformat_minor": 2
}
