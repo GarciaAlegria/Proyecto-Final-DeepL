{
 "cells": [
  {
   "cell_type": "code",
   "execution_count": null,
   "metadata": {},
   "outputs": [],
   "source": [
    "import os\n",
    "import json\n",
    "import numpy as np\n",
    "import tensorflow as tf\n",
    "from tensorflow.keras import layers\n",
    "from tensorflow.keras.preprocessing import image\n",
    "from tensorflow.keras.preprocessing.image import ImageDataGenerator"
   ]
  },
  {
   "cell_type": "code",
   "execution_count": null,
   "metadata": {},
   "outputs": [],
   "source": [
    "# Set the global policy to mixed precision with float16\n",
    "mixed_precision.set_global_policy('mixed_float16')\n",
    "\n",
    "# List all physical devices available\n",
    "devices = tf.config.list_physical_devices()\n",
    "print(\"\\nDevices: \", devices)\n",
    "\n",
    "# List all available GPU devices\n",
    "gpus = tf.config.list_physical_devices('GPU')\n",
    "if gpus:\n",
    "    # If GPUs are available, set memory growth to True for each GPU\n",
    "    for gpu in gpus:\n",
    "        tf.config.experimental.set_memory_growth(gpu, True)"
   ]
  },
  {
   "cell_type": "code",
   "execution_count": null,
   "metadata": {},
   "outputs": [],
   "source": [
    "# Optimización para el data pipeline\n",
    "AUTOTUNE = tf.data.AUTOTUNE\n",
    "BATCH_SIZE = 16\n",
    "IMG_SIZE = 512"
   ]
  },
  {
   "cell_type": "code",
   "execution_count": null,
   "metadata": {},
   "outputs": [],
   "source": [
    "# Directorio de imágenes\n",
    "base_dir = 'Images'\n",
    "\n",
    "train_datagen = ImageDataGenerator(\n",
    "    rescale=1.0/255, \n",
    "    validation_split=0.2, \n",
    "    rotation_range=20,\n",
    "    width_shift_range=0.2,\n",
    "    height_shift_range=0.2,\n",
    "    shear_range=0.2,\n",
    "    zoom_range=0.2,\n",
    "    horizontal_flip=True,\n",
    "    fill_mode='nearest')\n",
    "test_datagen = ImageDataGenerator(rescale=1.0/255)\n",
    "\n",
    "train_generator = train_datagen.flow_from_directory(\n",
    "    base_dir,\n",
    "    target_size=(IMG_SIZE, IMG_SIZE),\n",
    "    batch_size=BATCH_SIZE,\n",
    "    class_mode='binary',\n",
    "    subset='training',\n",
    "    shuffle=True\n",
    ")\n",
    "\n",
    "validation_generator = train_datagen.flow_from_directory(\n",
    "    base_dir,\n",
    "    target_size=(IMG_SIZE, IMG_SIZE),\n",
    "    batch_size=BATCH_SIZE,\n",
    "    class_mode='binary',\n",
    "    subset='validation',\n",
    "    shuffle=True\n",
    ")\n",
    "\n",
    "test_generator = test_datagen.flow_from_directory(\n",
    "    base_dir,\n",
    "    target_size=(IMG_SIZE, IMG_SIZE),\n",
    "    batch_size=BATCH_SIZE,\n",
    "    class_mode='binary',\n",
    "    shuffle=False\n",
    ")"
   ]
  },
  {
   "cell_type": "code",
   "execution_count": null,
   "metadata": {},
   "outputs": [],
   "source": [
    "def make_classifier_model():\n",
    "    # Initialize a sequential model\n",
    "    model = tf.keras.Sequential()\n",
    "    \n",
    "    # Add first convolutional layer with 64 filters, 3x3 kernel, same padding, and input shape\n",
    "    model.add(layers.Conv2D(64, (3, 3), padding='same', input_shape=(512, 512, 3)))\n",
    "    # Add batch normalization\n",
    "    model.add(layers.BatchNormalization())\n",
    "    # Add LeakyReLU activation function with alpha 0.1\n",
    "    model.add(layers.LeakyReLU(alpha=0.1))\n",
    "    # Add max pooling layer with 2x2 pool size\n",
    "    model.add(layers.MaxPooling2D((2, 2)))\n",
    "    # Add dropout layer with 30% dropout rate\n",
    "    model.add(layers.Dropout(0.3))\n",
    "    \n",
    "    # Add second convolutional layer with 128 filters, 3x3 kernel, and same padding\n",
    "    model.add(layers.Conv2D(128, (3, 3), padding='same'))\n",
    "    # Add batch normalization\n",
    "    model.add(layers.BatchNormalization())\n",
    "    # Add LeakyReLU activation function with alpha 0.1\n",
    "    model.add(layers.LeakyReLU(alpha=0.1))\n",
    "    # Add max pooling layer with 2x2 pool size\n",
    "    model.add(layers.MaxPooling2D((2, 2)))\n",
    "    # Add dropout layer with 30% dropout rate\n",
    "    model.add(layers.Dropout(0.3))\n",
    "    \n",
    "    # Add third convolutional layer with 256 filters, 3x3 kernel, and same padding\n",
    "    model.add(layers.Conv2D(256, (3, 3), padding='same'))\n",
    "    # Add batch normalization\n",
    "    model.add(layers.BatchNormalization())\n",
    "    # Add LeakyReLU activation function with alpha 0.1\n",
    "    model.add(layers.LeakyReLU(alpha=0.1))\n",
    "    # Add max pooling layer with 2x2 pool size\n",
    "    model.add(layers.MaxPooling2D((2, 2)))\n",
    "    # Add dropout layer with 30% dropout rate\n",
    "    model.add(layers.Dropout(0.3))\n",
    "    \n",
    "    # Add fourth convolutional layer with 512 filters, 3x3 kernel, and same padding\n",
    "    model.add(layers.Conv2D(512, (3, 3), padding='same'))\n",
    "    # Add batch normalization\n",
    "    model.add(layers.BatchNormalization())\n",
    "    # Add LeakyReLU activation function with alpha 0.1\n",
    "    model.add(layers.LeakyReLU(alpha=0.1))\n",
    "    # Add max pooling layer with 2x2 pool size\n",
    "    model.add(layers.MaxPooling2D((2, 2)))\n",
    "    # Add dropout layer with 30% dropout rate\n",
    "    model.add(layers.Dropout(0.3))\n",
    "    \n",
    "    # Flatten the output from the convolutional layers\n",
    "    model.add(layers.Flatten())\n",
    "    # Add a dense (fully connected) layer with 256 units\n",
    "    model.add(layers.Dense(256))\n",
    "    # Add batch normalization\n",
    "    model.add(layers.BatchNormalization())\n",
    "    # Add LeakyReLU activation function with alpha 0.1\n",
    "    model.add(layers.LeakyReLU(alpha=0.1))\n",
    "    # Add dropout layer with 50% dropout rate\n",
    "    model.add(layers.Dropout(0.5))\n",
    "    # Add output dense layer with 1 unit and sigmoid activation function\n",
    "    model.add(layers.Dense(1, activation='sigmoid', dtype='float32'))\n",
    "    \n",
    "    # Return the constructed model\n",
    "    return model"
   ]
  },
  {
   "cell_type": "code",
   "execution_count": null,
   "metadata": {},
   "outputs": [],
   "source": [
    "model = make_classifier_model()\n",
    "\n",
    "model.compile(optimizer='adam',\n",
    "              loss='binary_crossentropy',\n",
    "              metrics=['accuracy'])\n",
    "\n",
    "model.summary()"
   ]
  },
  {
   "cell_type": "code",
   "execution_count": null,
   "metadata": {},
   "outputs": [],
   "source": [
    "if not os.path.exists('models'):\n",
    "    os.makedirs('models')"
   ]
  },
  {
   "cell_type": "code",
   "execution_count": null,
   "metadata": {},
   "outputs": [],
   "source": [
    "# Define a list of callbacks to be used during training\n",
    "callbacks = [\n",
    "    # Reduce learning rate when a metric has stopped improving\n",
    "    tf.keras.callbacks.ReduceLROnPlateau(\n",
    "        monitor='val_loss',  # Metric to be monitored\n",
    "        factor=0.2,          # Factor by which the learning rate will be reduced\n",
    "        patience=2           # Number of epochs with no improvement after which learning rate will be reduced\n",
    "    ),\n",
    "    # Save the model after every epoch\n",
    "    tf.keras.callbacks.ModelCheckpoint(\n",
    "        'models/checkpoint2.keras',  # Path to save the model file\n",
    "        save_best_only=True          # Only save the model if the monitored metric improves\n",
    "    )\n",
    "]"
   ]
  },
  {
   "cell_type": "code",
   "execution_count": null,
   "metadata": {},
   "outputs": [],
   "source": [
    "history = model.fit(\n",
    "    train_generator,\n",
    "    epochs=25,\n",
    "    validation_data=validation_generator,\n",
    "    callbacks=callbacks,\n",
    "    verbose=1\n",
    ")"
   ]
  },
  {
   "cell_type": "code",
   "execution_count": null,
   "metadata": {},
   "outputs": [],
   "source": [
    "test_loss, test_accuracy = model.evaluate(test_generator, steps=test_generator.samples // test_generator.batch_size)\n",
    "\n",
    "print(f\"Test Accuracy: {test_accuracy * 100:.2f}%\")\n",
    "print(f\"Test Loss: {test_loss:.4f}\")"
   ]
  },
  {
   "cell_type": "code",
   "execution_count": null,
   "metadata": {},
   "outputs": [],
   "source": [
    "if not os.path.exists('saved_models'):\n",
    "    os.makedirs('saved_models')\n",
    "\n",
    "model.save('saved_models/glasses_detector')\n",
    "\n",
    "if 'history' in locals() or 'history' in globals():\n",
    "    history_dict = history.history\n",
    "    with open('saved_models/training_history.json', 'w') as f:\n",
    "        json.dump(history_dict, f)"
   ]
  }
 ],
 "metadata": {
  "kernelspec": {
   "display_name": "Python 3",
   "language": "python",
   "name": "python3"
  },
  "language_info": {
   "codemirror_mode": {
    "name": "ipython",
    "version": 3
   },
   "file_extension": ".py",
   "mimetype": "text/x-python",
   "name": "python",
   "nbconvert_exporter": "python",
   "pygments_lexer": "ipython3",
   "version": "3.11.9"
  }
 },
 "nbformat": 4,
 "nbformat_minor": 2
}
